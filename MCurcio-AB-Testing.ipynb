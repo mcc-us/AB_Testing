{
 "cells": [
  {
   "cell_type": "markdown",
   "id": "92ad10b7",
   "metadata": {},
   "source": [
    "# 'catsVSdogs.com' A/B Testing Analysis\n",
    "\n",
    "To:&nbsp;&nbsp;&nbsp;&nbsp; Magnimind\n",
    "\n",
    "From: Matt Curcio, matt.curcio.us@gmail.com\n",
    "\n",
    "Date: 2022-10-30\n",
    "\n",
    "Re:&nbsp;&nbsp;&nbsp; 'catsVSdogs.com' AB Testing\n",
    "\n",
    "\n",
    "\n",
    "## Executive Summary\n",
    "\n",
    ">*Note: This report describes work for the mythical company, catsVSdogs.com.*\n",
    "\n",
    "Market research showed that using animal icons on the purchase page of www.catsVSdogs.com might promote a higher conversion rate, i.e. better sales. These cat and the dog icons were chosen for AB testing.\n",
    "\n",
    "<center><strong>Order Icon: Cat vs. Dog</strong></center>\n",
    "\n",
    "<center>\n",
    "    \n",
    "  | ![small-cat](figures/small-cat.jpeg) | ![small-dog](figures/small-dog.jpeg) |\n",
    "  |:-------:|:-------:|\n",
    "  | Control | Exposed | \n",
    "    \n",
    "</center>\n",
    "\n",
    "\n",
    "### Conclusions\n",
    " \n",
    "<div class=\"alert alert-block alert-warning\">\n",
    "    \n",
    "1.  [Fisher's Exact Test](#Fisher's-Exact-Test) (P-value = 0.531): There is no association between the two icons and any change in conversion rates.\n",
    "\n",
    "2. [Phi Coefficient](#Phi-Coefficient-of-Association) ($\\Phi$ = -0.0183): There is no relationship between the two icons and a change in conversion rates.\n",
    "\n",
    "3. [Z-Test](#Z-Test) (P-value = 0.518): There is no relationship between the two icons and a change in conversion rates.\n",
    "\n",
    "4. **Do not change the icons for www.catsVSdogs.com at this time.**\n",
    "</div>\n",
    "\n",
    "## Introduction\n",
    "\n",
    "This A/B Test was carried out between July 3-10, 2020, Friday to Friday with 1243 participants.\n",
    "\n",
    "<center>\n",
    "\n",
    "  | Experimental Data | Proportion |\n",
    "  |:------------------|-----------:|\n",
    "  | Control: Conversion-Ratio using Cat icon | 322 / 586 = 54.9% |\n",
    "  | Exposed: Conversion-Ratio using Dog icon | 349 / 657 = 53.1% |\n",
    "\n",
    "</center>\n",
    "\n",
    "### Three statistical tests:\n",
    "\n",
    "  1. [Z-test for Proportions](https://en.wikipedia.org/wiki/Z-test), \n",
    "\n",
    "  2. [Fisher's Exact Test](https://en.wikipedia.org/wiki/Fisher%27s_exact_test),\n",
    "\n",
    "  3. [Phi-Coefficient test](https://en.wikipedia.org/wiki/Phi_coefficient) for comparison.\n",
    "\n",
    "\n",
    "### Graphics\n",
    "\n",
    "1. [Barplot of dates](#Barplot-of-dates)\n",
    "\n",
    "2. [Histogram of Hours Vs Counts](#Histogram-of-Hours-Vs-Counts)\n",
    "\n",
    "3. [Browser Word Cloud](#Browser-Word-Cloud)\n",
    "\n",
    "4. [Device Make Word Cloud](#Device-Make-Word-Cloud)\n",
    "\n",
    "\n",
    "##  Initial Data Analysis\n",
    "\n",
    "Data can be found at: **ad-ab-testing**, https://www.kaggle.com/datasets/osuolaleemmanuel/ad-ab-testing."
   ]
  },
  {
   "cell_type": "code",
   "execution_count": null,
   "id": "e0cbdb09",
   "metadata": {},
   "outputs": [],
   "source": [
    "import numpy as np\n",
    "import pandas as pd\n",
    "import matplotlib.pyplot as plt\n",
    "%matplotlib inline\n",
    "\n",
    "# conda install -c conda-forge wordcloud\n",
    "from wordcloud import WordCloud\n",
    "from scipy.stats import norm\n",
    "import scipy.stats as stats"
   ]
  },
  {
   "cell_type": "code",
   "execution_count": null,
   "id": "e44b95b7",
   "metadata": {},
   "outputs": [],
   "source": [
    "path = 'data/'\n",
    "filename = 'AdSmartABdata.csv'\n",
    "df = pd.read_csv(path+filename)\n",
    "\n",
    "print('\\nDataframe dimensions: ',\n",
    "      df.shape[0], 'Observations &', df.shape[1], 'features')\n",
    "\n",
    "df.head(5)"
   ]
  },
  {
   "cell_type": "markdown",
   "id": "b3645cfd",
   "metadata": {},
   "source": [
    "### Note 1\n",
    "\n",
    "<div class=\"alert alert-block alert-warning\">\n",
    "    \n",
    "1. The `zip` file has NO descriptive information on the columns `auction_id` and `platform_os` columns. These variables will not be used in this analysis.\n",
    "\n",
    "</dev>"
   ]
  },
  {
   "cell_type": "code",
   "execution_count": null,
   "id": "ad09942d",
   "metadata": {},
   "outputs": [],
   "source": [
    "# Check for NULLS: NO NULLS FOUND\n",
    "\n",
    "df.isnull().sum()"
   ]
  },
  {
   "cell_type": "code",
   "execution_count": null,
   "id": "c930354e",
   "metadata": {},
   "outputs": [],
   "source": [
    "# Reduce all letters to lower case\n",
    "\n",
    "df['device_make'] = df['device_make'].str.lower()\n",
    "df['browser'] = df['browser'].str.lower()\n",
    "df['experiment'] = df['experiment'].str.lower()\n",
    "\n",
    "# Delete columns 'auction_id'(0) & 'platform_os'(5) \n",
    "\n",
    "df_mod = df.drop(df.columns[[0, 5]], axis=1, inplace=False)\n",
    "df_mod.info()"
   ]
  },
  {
   "cell_type": "code",
   "execution_count": null,
   "id": "3d5087d8",
   "metadata": {},
   "outputs": [],
   "source": [
    "df_mod.head()"
   ]
  },
  {
   "cell_type": "markdown",
   "id": "887d4e44",
   "metadata": {},
   "source": [
    "### Note 2\n",
    "\n",
    "<div class=\"alert alert-block alert-warning\">\n",
    "    \n",
    "1. Data does not contain any missing values, therefore all 8077 observations can be used.\n",
    "\n",
    "</div>"
   ]
  },
  {
   "cell_type": "markdown",
   "id": "de9428c0",
   "metadata": {},
   "source": [
    "## Exploratory Data Analysis\n",
    "\n",
    "### Date Plot\n",
    "- The experiment was run between `July 3-10, 2020, (Friday to Friday)`"
   ]
  },
  {
   "cell_type": "code",
   "execution_count": null,
   "id": "feec7d2f",
   "metadata": {},
   "outputs": [],
   "source": [
    "# Experiment Dates\n",
    "# Group by date\n",
    "df_dates = df_mod.groupby('date')['date'].count()\n",
    "print(df_dates)\n",
    "type(df_dates)"
   ]
  },
  {
   "cell_type": "markdown",
   "id": "bee2f57b",
   "metadata": {},
   "source": [
    "#### Barplot of dates"
   ]
  },
  {
   "cell_type": "code",
   "execution_count": null,
   "id": "10c587aa",
   "metadata": {},
   "outputs": [],
   "source": [
    "df_date = {'Date': ['2020-07-03', '2020-07-04', '2020-07-05', '2020-07-06', '2020-07-07', '2020-07-08', '2020-07-09', '2020-07-10'],\n",
    "           'Counts': [2015, 903, 890, 490, 480, 1198, 1208, 893]}\n",
    "\n",
    "plt.bar(df_date['Date'], df_date['Counts'], color='green', edgecolor='black')\n",
    "plt.xticks(rotation=45)\n",
    "plt.title('Counts Per Day Of Testing', fontsize=18)\n",
    "plt.ylabel('Count', fontsize=16)\n",
    "plt.xlabel('Day', fontsize=16)\n",
    "plt.text(-0.7, 2040, \"2015, Friday\")\n",
    "plt.text(6.7, 950, \" 893\\nFriday\")\n",
    "plt.show()"
   ]
  },
  {
   "cell_type": "markdown",
   "id": "aec3254f",
   "metadata": {},
   "source": [
    "### Note 3\n",
    "\n",
    "<div class=\"alert alert-block alert-warning\">\n",
    "    \n",
    "1. Friday, July 3rd, 2020 traffic = 2015 impressions\n",
    "\n",
    "2. Friday, July 10th, 2020 traffic = 815 impressions\n",
    "\n",
    "3. The 247% greater traffic on 7/3 versus 7/10 may be a *novelty* effect shown on the first day.\n",
    "    \n",
    "</div>"
   ]
  },
  {
   "cell_type": "markdown",
   "id": "e03f5206",
   "metadata": {},
   "source": [
    "### Histogram for Hours"
   ]
  },
  {
   "cell_type": "code",
   "execution_count": null,
   "id": "e9a9ca93",
   "metadata": {},
   "outputs": [],
   "source": [
    "# Experiment Hour\n",
    "# Group by Hour\n",
    "df_hour = df_mod.groupby('hour')['hour'].count()\n",
    "print(df_hour)\n",
    "type(df_hour)\n",
    "print('\\nMean over 24 hours =', df_hour.mean())"
   ]
  },
  {
   "cell_type": "markdown",
   "id": "5ff6361a",
   "metadata": {},
   "source": [
    "### Histogram of Hours Vs Counts"
   ]
  },
  {
   "cell_type": "code",
   "execution_count": null,
   "id": "d5ba79a3",
   "metadata": {},
   "outputs": [],
   "source": [
    "# Histogram of Hours Vs Counts\n",
    "df_hour = df_mod['hour']\n",
    "df_hour.plot(kind='hist', color='green',\n",
    "             density=True, edgecolor='black', bins=24)\n",
    "plt.title('Counts Per Hour Of Testing', fontsize=18)\n",
    "plt.xlabel('Hour', fontsize=16)\n",
    "plt.ylabel('Proportion', fontsize=16)\n",
    "plt.text(4, 0.23, \"1895 Impressions @ 15:00\")\n",
    "plt.text(0, 0.07, \"Mean = 336 Impressions / hr\")"
   ]
  },
  {
   "cell_type": "markdown",
   "id": "19fb7c58",
   "metadata": {},
   "source": [
    "### Note 4\n",
    "\n",
    "<div class=\"alert alert-block alert-warning\">\n",
    "    \n",
    "1. 1895 impressions were collected at hour 15.\n",
    "\n",
    "2. The mean of 24 hours is 336 impressions.\n",
    "\n",
    "3. The **564%** greater traffic on **hr=1500** over the **mean=336** may need to be further investigated.\n",
    "    \n",
    "</div>"
   ]
  },
  {
   "cell_type": "markdown",
   "id": "32d50b11",
   "metadata": {},
   "source": [
    "### Browser Word Cloud"
   ]
  },
  {
   "cell_type": "code",
   "execution_count": null,
   "id": "85678042",
   "metadata": {},
   "outputs": [],
   "source": [
    "# Create text variable\n",
    "text1 = \" \".join(browser for browser in df_mod.browser)\n",
    "\n",
    "# Creatd word_cloud\n",
    "word_cloud1 = WordCloud(collocations=False, \n",
    "                        background_color='white',\n",
    "                        width=3000, \n",
    "                        height=1500).generate(text1)\n",
    "# Save image\n",
    "word_cloud1.to_file('figures/browser_wordcloud.png')\n",
    "\n",
    "# Display Word Cloud\n",
    "plt.imshow(word_cloud1, interpolation='none')\n",
    "plt.axis(\"off\")\n",
    "plt.show()"
   ]
  },
  {
   "cell_type": "markdown",
   "id": "8c08147e",
   "metadata": {},
   "source": [
    "### Device Make Word Cloud"
   ]
  },
  {
   "cell_type": "code",
   "execution_count": null,
   "id": "3732420d",
   "metadata": {},
   "outputs": [],
   "source": [
    "# Create the text variable\n",
    "text1 = \" \".join(device_make for device_make in df_mod.device_make)\n",
    "\n",
    "# Create word_cloud\n",
    "word_cloud1 = WordCloud(collocations=False, \n",
    "                        background_color='white',\n",
    "                        width=3000, \n",
    "                        height=1500).generate(text1)\n",
    "# Save image\n",
    "word_cloud1.to_file('figures/device_wordcloud.png')\n",
    "\n",
    "# Display Word Cloud\n",
    "plt.imshow(word_cloud1, interpolation='none')\n",
    "plt.axis(\"off\")\n",
    "plt.show()"
   ]
  },
  {
   "cell_type": "markdown",
   "id": "80653e99",
   "metadata": {},
   "source": [
    "## Statistical Tests & Analysis\n",
    "\n",
    "### Fisher's Exact Test\n",
    "\n",
    "Fisher's Exact Test is a Non-Parametric test. In plain English, Fisher's test does not make the same assumptions as the z-test. In fact, Fisher's test calculates the exact probabality of an occurence. \n",
    "\n",
    "Fisher's test assumes:\n",
    "\n",
    "1. Random sampling\n",
    "2. Independence\n",
    "3. Mutually exclusive groups\n",
    "\n",
    "It is appropriate to use Fisher's Exact Test when:\n",
    "\n",
    "1. Variables are categorical and the result is classified in two different groups.\n",
    "1. One is looking for the relationship between two variables.\n",
    "1. The response variables are recorded using counts.\n",
    "\n",
    "Fisher’s Exact Test uses the hypotheses test:\n",
    "\n",
    "- H0: The two variables are independent.\n",
    "- H1: The two variables are not independent, \n",
    "  - i.e. the difference in conversion rates is related to using the different icons."
   ]
  },
  {
   "cell_type": "code",
   "execution_count": null,
   "id": "c9e3bd2b",
   "metadata": {},
   "outputs": [],
   "source": [
    "# KEEP 'PARTICIPATING' MEMBERS ONLY\n",
    "# Where 'yes' or 'no' columns are equal to 1.\n",
    "\n",
    "# REMOVE columns [[0,2,3,4,5,6]] from ORIGINAL dataframe, **df**\n",
    "df_mod = df.drop(df.columns[[0,2,3,4,5,6]], axis=1, inplace=False)\n",
    "\n",
    "# KEEP PARTICIPATING MEMBERS ONLY\n",
    "df_participants = df_mod[(df_mod['yes'] == 1) | (df_mod['no'] == 1)]\n",
    "print('\\nDimensions of Participants dataframe =', df_participants.shape)\n",
    "\n",
    "df_participants.head(5)"
   ]
  },
  {
   "cell_type": "code",
   "execution_count": null,
   "id": "0725ea0c",
   "metadata": {
    "code_folding": [
     0,
     3,
     6,
     9
    ]
   },
   "outputs": [],
   "source": [
    "fishers_a = df_participants[(df_participants['experiment'] == 'control') & \n",
    "                            (df_participants['no'] == 0)].count()\n",
    "\n",
    "fishers_b = df_participants[(df_participants['experiment'] == 'control') & \n",
    "                            (df_participants['no'] == 1)].count()\n",
    "\n",
    "fishers_c = df_participants[(df_participants['experiment'] == 'exposed') & \n",
    "                            (df_participants['no'] == 0)].count()\n",
    "\n",
    "fishers_d = df_participants[(df_participants['experiment'] == 'exposed') & \n",
    "                            (df_participants['no'] == 1)].count()"
   ]
  },
  {
   "cell_type": "code",
   "execution_count": null,
   "id": "9c2eb7a0",
   "metadata": {},
   "outputs": [],
   "source": [
    "# Fisher 2x2 Contingency Table\n",
    "\n",
    "print('fishers_a =', fishers_a[0])\n",
    "print('fishers_b =', fishers_b[0])\n",
    "print('fishers_c =', fishers_c[0])\n",
    "print('fishers_d =', fishers_d[0])"
   ]
  },
  {
   "cell_type": "code",
   "execution_count": null,
   "id": "8b15ada1",
   "metadata": {},
   "outputs": [],
   "source": [
    "df_participants['experiment'].value_counts()"
   ]
  },
  {
   "cell_type": "code",
   "execution_count": null,
   "id": "cdb66e9f",
   "metadata": {},
   "outputs": [],
   "source": [
    "# Counts\n",
    "\n",
    "df = pd.DataFrame({'No': [264, 308], 'Yes': [322, 349]},\n",
    "                  index=pd.Index(['Control', 'Exposed']))\n",
    "df"
   ]
  },
  {
   "cell_type": "code",
   "execution_count": null,
   "id": "07cd366e",
   "metadata": {},
   "outputs": [],
   "source": [
    "# Proportions Table\n",
    "\n",
    "df_prop = pd.DataFrame({'No': [0.212, 0.248], 'Yes': [0.259, 0.281]},\n",
    "                       index=pd.Index(['Control', 'Exposed']))\n",
    "df_prop"
   ]
  },
  {
   "cell_type": "code",
   "execution_count": null,
   "id": "06c19dec",
   "metadata": {},
   "outputs": [],
   "source": [
    "# Fishers exact test on the data\n",
    "\n",
    "odds_ratio, p_value = stats.fisher_exact(df, alternative=\"two-sided\")\n",
    "print(\"\\nOdds ratio is: \" + str(odds_ratio))\n",
    "print(\"\\nP-value is: \" + str(p_value))"
   ]
  },
  {
   "cell_type": "markdown",
   "id": "4d5f1c2b",
   "metadata": {},
   "source": [
    "### Results of Fisher's Exact Test\n",
    "\n",
    "<div class=\"alert alert-block alert-warning\">\n",
    "\n",
    "1. P-value = 0.531, therefore this result will occur on average 53% of the time.\n",
    "    \n",
    "2. Fisher's test also produces an odds ratio for betting people. Using these icons, the odds of increasing the conversion rates are 0.93 : 1.0.\n",
    "    - In other words, the odds of increasing sales is ~1:1, no change.\n",
    "\n",
    "</div>"
   ]
  },
  {
   "cell_type": "markdown",
   "id": "8c5481fb",
   "metadata": {},
   "source": [
    "### Phi Coefficient of Association\n",
    "\n",
    "The Phi Coefficient of Association ($\\large \\Phi$) is a measure of the degree of association (cooperative effect) between two binary variables.  \n",
    "\n",
    "The Phi Coefficient test can be interpreted similarly to Pearson's correlation coefficient. Chiefly, does any change in conversion rate positively (or negatively) correlate with changing the two icons?\n",
    "\n",
    "   - H0: There IS NO statistically significant relationship between the change in conversion rate and changing the cat and dog icons.\n",
    " \n",
    "   - H1: There IS a statistically significant relationship between the two variables.\n",
    "\n",
    "It is appropriate to use Phi in the following scenario:\n",
    "\n",
    "1. To determine the relationship between two variables\n",
    "\n",
    "\n",
    "2. The variables of interest are binary\n",
    "\n",
    "\n",
    "3. There are only two variables\n",
    "\n",
    "\n",
    "$$\\large \\Phi = \\frac{a \\cdot d - b \\cdot c}{\\sqrt{efgh}}$$ \n",
    "\n",
    "Where: \n",
    "\n",
    "| Experiment |       NO |     YES |    Sums |\n",
    "|-----------:|---------:|--------:|--------:|\n",
    "| Control    |  a = 264 | b = 322 | e = 586 |\n",
    "| Exposed    |  c = 308 | d = 349 | f = 657 |\n",
    "| Sums       |  g = 572 | h = 671 |    1243 |"
   ]
  },
  {
   "cell_type": "code",
   "execution_count": null,
   "id": "7bfb2833",
   "metadata": {},
   "outputs": [],
   "source": [
    "import math \n",
    "\n",
    "numerator = (264 * 349)-(308 * 322)\n",
    "\n",
    "denominator = ((586)*(657)*(572)*(671))**(0.5)\n",
    "\n",
    "print('\\nThe numerator of Phi =', numerator)\n",
    "print('\\nThe denominator of Phi =', math.floor(denominator))\n",
    "print('\\nPhi Coefficient =', numerator/denominator)"
   ]
  },
  {
   "cell_type": "markdown",
   "id": "1b616351",
   "metadata": {},
   "source": [
    "$$\\large \\Phi = \\frac{-7,040}{384,406} = -0.0183$$\n",
    "\n",
    "The Phi Coefficient test is interpreted similarly to Pearson's correlation coefficient\n",
    "\n",
    "The Phi Coefficient takes on values between -1 and 1 where:\n",
    "   - -1 indicates a perfectly negative relationship between the two variables.\n",
    "   - 0 indicates no association between the two variables.\n",
    "   - 1 indicates a perfectly positive relationship between the two variables.\n",
    "\n",
    "\n",
    "### Results of Phi Coefficient of Association\n",
    "\n",
    "<div class=\"alert alert-block alert-warning\">\n",
    "\n",
    "1. Since Phi = -0.0183, there is no relationship between the the icons and increased sales.\n",
    "    - The Phi Coefficient is very close to zero, there is <strong>no link</strong> between the icons and increased sales.\n",
    "<div>"
   ]
  },
  {
   "cell_type": "markdown",
   "id": "f6b77189",
   "metadata": {},
   "source": [
    "### Two Sample Z-test\n",
    "\n",
    ">This test uses a simple normal test for proportions. It should be the same as running the mean z-test on the data encoded 1 for event and 0 for no event so that the sum corresponds to the count.\n",
    ">\n",
    ">In the one and two sample cases with two-sided alternative, this test produces the same p-value as proportions_chisquare, since the chisquare is the distribution of the square of a standard normal distribution.\n",
    ">\n",
    ">https://www.statsmodels.org/stable/generated/statsmodels.stats.proportion.proportions_ztest.html\n",
    "\n",
    "\n",
    "- H0: $\\mu = \\mu_0$\n",
    "- HA: $\\mu \\neq \\mu_0$"
   ]
  },
  {
   "cell_type": "code",
   "execution_count": null,
   "id": "83dab72c",
   "metadata": {},
   "outputs": [],
   "source": [
    "import numpy as np\n",
    "from statsmodels.stats.proportion import proportions_ztest\n",
    "\n",
    "count = np.array([322, 349])\n",
    "\n",
    "nobs = np.array([586, 657])\n",
    "\n",
    "stat, pval = proportions_ztest(count, nobs)\n",
    "\n",
    "print('Z-score =', '{0:0.3f}'.format(stat))\n",
    "print('P-value =', '{0:0.3f}'.format(pval))"
   ]
  },
  {
   "cell_type": "markdown",
   "id": "186f6b7f",
   "metadata": {},
   "source": [
    "### Results for the Z-test\n",
    "\n",
    "<div class=\"alert alert-block alert-warning\">\n",
    "\n",
    "1. Since the P-value = 0.518, the proportions are equal. There is no difference between the two conversion rates.\n",
    " \n",
    "</div>"
   ]
  },
  {
   "cell_type": "markdown",
   "id": "9f6dfde9",
   "metadata": {},
   "source": [
    "### Ratios of Respondents to total & Exposed to Control"
   ]
  },
  {
   "cell_type": "markdown",
   "id": "d1515215",
   "metadata": {},
   "source": [
    "**Conversion Rate**: Conversion rate, defined as the proportion of sessions ending up with a transaction.\n",
    "\n",
    "Conversion Rate = # of converted / total number $\\cdot$ 100\\%\n",
    "\n",
    "\n",
    "| Experiment |       NO |     YES |    Sums |\n",
    "|-----------:|---------:|--------:|--------:|\n",
    "| Control    |  a = 264 | b = 322 | e = 586 |\n",
    "| Exposed    |  c = 308 | d = 349 | f = 657 |\n",
    "| Sums       |  g = 572 | h = 671 |    1243 |"
   ]
  },
  {
   "cell_type": "code",
   "execution_count": null,
   "id": "556c0772",
   "metadata": {},
   "outputs": [],
   "source": [
    "1243/8077, 322/586, 349/657"
   ]
  },
  {
   "cell_type": "markdown",
   "id": "5fdf5ea8",
   "metadata": {},
   "source": [
    "| Class | Proportion |\n",
    "|:------|-----------:|\n",
    "| Participants vs Total Impressions ratio | 15.4% |\n",
    "| Control: Conversion-Ratio of Cat-people | 54.9% |\n",
    "| Exposed: Conversion-Ratio of Dog-people | 53.1% |"
   ]
  },
  {
   "cell_type": "markdown",
   "id": "5861861c",
   "metadata": {},
   "source": [
    "## Conclusions"
   ]
  },
  {
   "cell_type": "markdown",
   "id": "d3ecb1be",
   "metadata": {},
   "source": [
    "<div class=\"alert alert-block alert-warning\">\n",
    "\n",
    "1. The **564% greater traffic on hr=1500 versus the mean=336**, as seen on the Hour histogram, could be a serious problem and may need to be investigated.\n",
    "    \n",
    "2. Fisher's Exact Test (P-value = 0.531) suggests there is no association between the two icons and any change of conversion rates. These results will occur 53% of the time in a random trial.\n",
    "   \n",
    "3. Phi Coefficient of Association ($\\Phi$ = -0.0183) suggests there is no relationship between the two icons and any change of conversion rates.\n",
    "   \n",
    "4. No changes to www.catsVSdogs.com should be made at this time.\n",
    "    \n",
    "</div>"
   ]
  }
 ],
 "metadata": {
  "kernelspec": {
   "display_name": "Python 3 (ipykernel)",
   "language": "python",
   "name": "python3"
  },
  "language_info": {
   "codemirror_mode": {
    "name": "ipython",
    "version": 3
   },
   "file_extension": ".py",
   "mimetype": "text/x-python",
   "name": "python",
   "nbconvert_exporter": "python",
   "pygments_lexer": "ipython3",
   "version": "3.10.6"
  },
  "toc": {
   "base_numbering": 1,
   "nav_menu": {},
   "number_sections": true,
   "sideBar": true,
   "skip_h1_title": false,
   "title_cell": "Table of Contents",
   "title_sidebar": "Contents",
   "toc_cell": true,
   "toc_position": {
    "height": "calc(100% - 180px)",
    "left": "10px",
    "top": "150px",
    "width": "165px"
   },
   "toc_section_display": true,
   "toc_window_display": false
  },
  "toc-autonumbering": true,
  "toc-showmarkdowntxt": false,
  "toc-showtags": false,
  "varInspector": {
   "cols": {
    "lenName": 16,
    "lenType": 16,
    "lenVar": 40
   },
   "kernels_config": {
    "python": {
     "delete_cmd_postfix": "",
     "delete_cmd_prefix": "del ",
     "library": "var_list.py",
     "varRefreshCmd": "print(var_dic_list())"
    },
    "r": {
     "delete_cmd_postfix": ") ",
     "delete_cmd_prefix": "rm(",
     "library": "var_list.r",
     "varRefreshCmd": "cat(var_dic_list()) "
    }
   },
   "types_to_exclude": [
    "module",
    "function",
    "builtin_function_or_method",
    "instance",
    "_Feature"
   ],
   "window_display": false
  },
  "vscode": {
   "interpreter": {
    "hash": "ee253db64471d3bc5400655757329a6a33de9a5ca06cae94740881a9d5095460"
   }
  }
 },
 "nbformat": 4,
 "nbformat_minor": 5
}
