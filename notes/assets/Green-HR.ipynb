{
 "cells": [
  {
   "cell_type": "markdown",
   "id": "ab2d5d74",
   "metadata": {
    "toc": true
   },
   "source": [
    "<h1>Table of Contents<span class=\"tocSkip\"></span></h1>\n",
    "<div class=\"toc\"><ul class=\"toc-item\"></ul></div>"
   ]
  },
  {
   "cell_type": "markdown",
   "id": "8e1aaf8a",
   "metadata": {},
   "source": [
    "<!-- Green HR -->\n",
    "hr {\n",
    "  border-top: 1px solid green;\n",
    "}\n",
    "\n",
    "<hr>"
   ]
  },
  {
   "cell_type": "code",
   "execution_count": 5,
   "id": "3173c4b5",
   "metadata": {},
   "outputs": [
    {
     "ename": "IndentationError",
     "evalue": "unexpected indent (1446732829.py, line 2)",
     "output_type": "error",
     "traceback": [
      "\u001b[0;36m  File \u001b[0;32m\"/tmp/ipykernel_6248/1446732829.py\"\u001b[0;36m, line \u001b[0;32m2\u001b[0m\n\u001b[0;31m    style = \"<style>\"\u001b[0m\n\u001b[0m    ^\u001b[0m\n\u001b[0;31mIndentationError\u001b[0m\u001b[0;31m:\u001b[0m unexpected indent\n"
     ]
    }
   ],
   "source": [
    " container = \"jp-InputArea\"\n",
    "    style = \"<style>\"\n",
    "    _dict = {}\n",
    "    im = \"!important\"\n",
    "\n",
    "# -------------------------------------------------------------------------\n",
    "    arr = {}\n",
    "    arr['hr'] = [\"border-top: 1px solid green;\"]\n",
    "# -----------------------------------------------------------------------------\n",
    "\n",
    "    for i,(el, st) in enumerate(arr.items()):\n",
    "        arr_str = \"\"\n",
    "\n",
    "\n",
    "        for j in arr[el]:\n",
    "            arr_str = arr_str + j + \" !important; \"\n",
    "\n",
    "        style = style + (r\".jp-InputArea %s { %s }\\n\") % (el,arr_str)\n",
    "\n",
    "    style = style +\"</style>\"\n",
    "    HTML(style)"
   ]
  },
  {
   "cell_type": "code",
   "execution_count": null,
   "id": "a06d23d9",
   "metadata": {},
   "outputs": [],
   "source": []
  }
 ],
 "metadata": {
  "kernelspec": {
   "display_name": "Python 3 (ipykernel)",
   "language": "python",
   "name": "python3"
  },
  "language_info": {
   "codemirror_mode": {
    "name": "ipython",
    "version": 3
   },
   "file_extension": ".py",
   "mimetype": "text/x-python",
   "name": "python",
   "nbconvert_exporter": "python",
   "pygments_lexer": "ipython3",
   "version": "3.9.12"
  },
  "toc": {
   "base_numbering": 1,
   "nav_menu": {},
   "number_sections": true,
   "sideBar": true,
   "skip_h1_title": false,
   "title_cell": "Table of Contents",
   "title_sidebar": "Contents",
   "toc_cell": true,
   "toc_position": {},
   "toc_section_display": true,
   "toc_window_display": false
  },
  "varInspector": {
   "cols": {
    "lenName": 16,
    "lenType": 16,
    "lenVar": 40
   },
   "kernels_config": {
    "python": {
     "delete_cmd_postfix": "",
     "delete_cmd_prefix": "del ",
     "library": "var_list.py",
     "varRefreshCmd": "print(var_dic_list())"
    },
    "r": {
     "delete_cmd_postfix": ") ",
     "delete_cmd_prefix": "rm(",
     "library": "var_list.r",
     "varRefreshCmd": "cat(var_dic_list()) "
    }
   },
   "types_to_exclude": [
    "module",
    "function",
    "builtin_function_or_method",
    "instance",
    "_Feature"
   ],
   "window_display": false
  }
 },
 "nbformat": 4,
 "nbformat_minor": 5
}
