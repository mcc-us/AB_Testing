{
 "cells": [
  {
   "cell_type": "markdown",
   "id": "f60ca766",
   "metadata": {
    "toc": true
   },
   "source": [
    "<h1>Table of Contents<span class=\"tocSkip\"></span></h1>\n",
    "<div class=\"toc\"><ul class=\"toc-item\"><li><span><a href=\"#Case-1:-Sample-Size-Calculation-with-Binary-Metric\" data-toc-modified-id=\"Case-1:-Sample-Size-Calculation-with-Binary-Metric-1\"><span class=\"toc-item-num\">1&nbsp;&nbsp;</span>Case 1: Sample Size Calculation with Binary Metric</a></span></li></ul></div>"
   ]
  },
  {
   "cell_type": "code",
   "execution_count": null,
   "id": "f8ed4bb1",
   "metadata": {},
   "outputs": [],
   "source": []
  },
  {
   "cell_type": "markdown",
   "id": "32c62d65",
   "metadata": {},
   "source": [
    "## Case 1: Sample Size Calculation with Binary Metric\n",
    "\n",
    "When we are dealing with a primary performance tracking metric that has two possible values such as the Click Through Rate where the user can either click (success) or not click (failure) and if the users’ responses to the product can be defined as “independent” events then we can consider this as Bernoulli Trials where the click event (success) occurs with probability p_con in case of the Control Group and p_exp in case of the Experimental Group.\n",
    "   \n",
    "   $$N = \\frac{(Z_{1-\\frac{\\alpha}{2}}sd_1 + Z_{1-\\beta}sd_2)^2}{d^2}$$\n",
    "   \n",
    "   \n",
    "where \n",
    "  \n",
    "**EQ 1** $sd_1 = \\sqrt{p(1-p)+p(1-p)}$ \n",
    "  \n",
    "**EQ 2**  $sd_2 = \\sqrt{p(1-p)+(p+d)(1-(1-(p+d))}$"
   ]
  },
  {
   "cell_type": "markdown",
   "id": "1fe03962",
   "metadata": {},
   "source": [
    "Greetings Yasin,\n",
    "\n",
    "I have a question about the sample size calculations that you have described in `M3-01-ABTests.ipynb`\n",
    "\n",
    "You provide the standard deviations (EQ1 and EQ2) for two distributions.\n",
    "\n",
    "I am not sure where these equations comes from. \n",
    "\n",
    "When dealing with proportions, I am more accustomed to seeing: $\\large \\sigma^2 ~=~ \\frac{p(1-p)}{N}$ not **EQ1** and not **EQ2**.\n",
    "\n",
    "Q1. Are you (some how) referring to the pooled variances of two different distributions?\n",
    "\n",
    "Where: $$s_{pooled}^2 = \\frac{(N_1 -1)s_1^2 + (N_2-1)s_2^2}{N_1 + N_2 - 2}$$\n",
    "\n",
    "\n",
    "Q2. Can you describe where EQ2 comes from?"
   ]
  },
  {
   "cell_type": "code",
   "execution_count": null,
   "id": "8f8a696f",
   "metadata": {},
   "outputs": [],
   "source": []
  },
  {
   "cell_type": "code",
   "execution_count": null,
   "id": "53568494",
   "metadata": {},
   "outputs": [],
   "source": []
  }
 ],
 "metadata": {
  "kernelspec": {
   "display_name": "Python 3 (ipykernel)",
   "language": "python",
   "name": "python3"
  },
  "language_info": {
   "codemirror_mode": {
    "name": "ipython",
    "version": 3
   },
   "file_extension": ".py",
   "mimetype": "text/x-python",
   "name": "python",
   "nbconvert_exporter": "python",
   "pygments_lexer": "ipython3",
   "version": "3.9.13"
  },
  "toc": {
   "base_numbering": 1,
   "nav_menu": {},
   "number_sections": true,
   "sideBar": true,
   "skip_h1_title": false,
   "title_cell": "Table of Contents",
   "title_sidebar": "Contents",
   "toc_cell": true,
   "toc_position": {},
   "toc_section_display": true,
   "toc_window_display": false
  }
 },
 "nbformat": 4,
 "nbformat_minor": 5
}
