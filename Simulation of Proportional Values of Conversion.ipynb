{
 "cells": [
  {
   "cell_type": "code",
   "execution_count": 1,
   "id": "8d952a4c",
   "metadata": {},
   "outputs": [],
   "source": [
    "import pandas as pd\n",
    "\n",
    "# Read csv file into DataFrame\n",
    "df = pd.read_csv('/home/mcc/Public/AB_Testing/data/AdSmartABdata.csv')"
   ]
  },
  {
   "cell_type": "markdown",
   "id": "50eff093",
   "metadata": {},
   "source": [
    "https://www.kaggle.com/code/mohamedahmed10000/a-b-test-to-an-e-commerce-website-new-or-old"
   ]
  },
  {
   "cell_type": "code",
   "execution_count": 2,
   "id": "b6427a9c",
   "metadata": {},
   "outputs": [],
   "source": [
    "df2 = df.drop(columns=['auction_id', 'date', 'hour', 'device_make', 'platform_os', 'device_make', 'browser'])"
   ]
  },
  {
   "cell_type": "code",
   "execution_count": 3,
   "id": "3d0d0daa",
   "metadata": {},
   "outputs": [
    {
     "name": "stdout",
     "output_type": "stream",
     "text": [
      "<class 'pandas.core.frame.DataFrame'>\n",
      "RangeIndex: 8077 entries, 0 to 8076\n",
      "Data columns (total 3 columns):\n",
      " #   Column      Non-Null Count  Dtype \n",
      "---  ------      --------------  ----- \n",
      " 0   experiment  8077 non-null   object\n",
      " 1   yes         8077 non-null   int64 \n",
      " 2   no          8077 non-null   int64 \n",
      "dtypes: int64(2), object(1)\n",
      "memory usage: 189.4+ KB\n"
     ]
    }
   ],
   "source": [
    "df2.info()"
   ]
  },
  {
   "cell_type": "code",
   "execution_count": 6,
   "id": "2e48bcc1",
   "metadata": {},
   "outputs": [
    {
     "data": {
      "text/html": [
       "<div>\n",
       "<style scoped>\n",
       "    .dataframe tbody tr th:only-of-type {\n",
       "        vertical-align: middle;\n",
       "    }\n",
       "\n",
       "    .dataframe tbody tr th {\n",
       "        vertical-align: top;\n",
       "    }\n",
       "\n",
       "    .dataframe thead th {\n",
       "        text-align: right;\n",
       "    }\n",
       "</style>\n",
       "<table border=\"1\" class=\"dataframe\">\n",
       "  <thead>\n",
       "    <tr style=\"text-align: right;\">\n",
       "      <th></th>\n",
       "      <th>experiment</th>\n",
       "      <th>yes</th>\n",
       "      <th>no</th>\n",
       "    </tr>\n",
       "  </thead>\n",
       "  <tbody>\n",
       "    <tr>\n",
       "      <th>0</th>\n",
       "      <td>exposed</td>\n",
       "      <td>0</td>\n",
       "      <td>0</td>\n",
       "    </tr>\n",
       "    <tr>\n",
       "      <th>1</th>\n",
       "      <td>exposed</td>\n",
       "      <td>0</td>\n",
       "      <td>0</td>\n",
       "    </tr>\n",
       "    <tr>\n",
       "      <th>2</th>\n",
       "      <td>exposed</td>\n",
       "      <td>0</td>\n",
       "      <td>1</td>\n",
       "    </tr>\n",
       "    <tr>\n",
       "      <th>3</th>\n",
       "      <td>control</td>\n",
       "      <td>0</td>\n",
       "      <td>0</td>\n",
       "    </tr>\n",
       "    <tr>\n",
       "      <th>4</th>\n",
       "      <td>control</td>\n",
       "      <td>0</td>\n",
       "      <td>0</td>\n",
       "    </tr>\n",
       "  </tbody>\n",
       "</table>\n",
       "</div>"
      ],
      "text/plain": [
       "  experiment  yes  no\n",
       "0    exposed    0   0\n",
       "1    exposed    0   0\n",
       "2    exposed    0   1\n",
       "3    control    0   0\n",
       "4    control    0   0"
      ]
     },
     "execution_count": 6,
     "metadata": {},
     "output_type": "execute_result"
    }
   ],
   "source": [
    "df2.head()"
   ]
  },
  {
   "cell_type": "code",
   "execution_count": 7,
   "id": "0d90c590",
   "metadata": {},
   "outputs": [
    {
     "data": {
      "text/plain": [
       "0.07081837315835088"
      ]
     },
     "execution_count": 7,
     "metadata": {},
     "output_type": "execute_result"
    }
   ],
   "source": [
    "# The proportion of ALL users converted.\n",
    "\n",
    "P_population = df2['yes'].mean()\n",
    "P_population"
   ]
  },
  {
   "cell_type": "code",
   "execution_count": 16,
   "id": "ccbdcc6e",
   "metadata": {},
   "outputs": [
    {
     "data": {
      "text/plain": [
       "0.06484893146647015"
      ]
     },
     "execution_count": 16,
     "metadata": {},
     "output_type": "execute_result"
    }
   ],
   "source": [
    "# The proportion of control users converted.\n",
    "\n",
    "control_df = df2.query('experiment == \"control\"')\n",
    "control_convert = control_df['yes'].mean()\n",
    "control_convert"
   ]
  },
  {
   "cell_type": "code",
   "execution_count": 17,
   "id": "8f5014bc",
   "metadata": {},
   "outputs": [
    {
     "data": {
      "text/plain": [
       "0.07688467299051423"
      ]
     },
     "execution_count": 17,
     "metadata": {},
     "output_type": "execute_result"
    }
   ],
   "source": [
    "# The proportion of experiment users converted.\n",
    "\n",
    "exposed_df = df2.query('experiment == \"exposed\"')\n",
    "exposed_convert = exposed_df['yes'].mean()\n",
    "exposed_convert"
   ]
  },
  {
   "cell_type": "code",
   "execution_count": 18,
   "id": "6bdf5f68",
   "metadata": {},
   "outputs": [
    {
     "data": {
      "text/plain": [
       "-0.012035741524044075"
      ]
     },
     "execution_count": 18,
     "metadata": {},
     "output_type": "execute_result"
    }
   ],
   "source": [
    "# Calculate the difference between the conversion rates for the two groups.\n",
    "\n",
    "difference_in_observations = control_convert - exposed_convert\n",
    "difference_in_observations"
   ]
  },
  {
   "cell_type": "code",
   "execution_count": 11,
   "id": "123d12a0",
   "metadata": {},
   "outputs": [
    {
     "data": {
      "text/plain": [
       "0.495976228797821"
      ]
     },
     "execution_count": 11,
     "metadata": {},
     "output_type": "execute_result"
    }
   ],
   "source": [
    "# What is the probability that an individual received the new page?\n",
    "\n",
    "df2.query('experiment == \"exposed\"').count()[0] / df2.shape[0]"
   ]
  },
  {
   "cell_type": "markdown",
   "id": "9965f2d0",
   "metadata": {},
   "source": [
    "### A/B Hypothese Testing\n",
    "\n",
    "$\\alpha = 0.05$\n",
    "\n",
    "$H0: p_{new} - p_{old} \\le 0$\n",
    "\n",
    "$H1: p_{new} - p_{old} > 0$\n"
   ]
  },
  {
   "cell_type": "code",
   "execution_count": 12,
   "id": "24669eca",
   "metadata": {},
   "outputs": [
    {
     "data": {
      "text/plain": [
       "4006"
      ]
     },
     "execution_count": 12,
     "metadata": {},
     "output_type": "execute_result"
    }
   ],
   "source": [
    "n_new = df2.query('experiment == \"exposed\"').shape[0]\n",
    "n_new"
   ]
  },
  {
   "cell_type": "code",
   "execution_count": 13,
   "id": "4d7792b9",
   "metadata": {},
   "outputs": [
    {
     "data": {
      "text/plain": [
       "4071"
      ]
     },
     "execution_count": 13,
     "metadata": {},
     "output_type": "execute_result"
    }
   ],
   "source": [
    "n_old = df2.query('experiment == \"control\"').shape[0]\n",
    "n_old"
   ]
  },
  {
   "cell_type": "code",
   "execution_count": 56,
   "id": "7f54822a",
   "metadata": {},
   "outputs": [
    {
     "data": {
      "text/plain": [
       "0.5384615384615384"
      ]
     },
     "execution_count": 56,
     "metadata": {},
     "output_type": "execute_result"
    }
   ],
   "source": [
    "# What is the conversion rate for p_new under the null?\n",
    "\n",
    "n_converted = len(df2.query(\"yes == 1 \"))\n",
    "n_con_new = len(df2.query(\"yes == 1 & experiment == 'exposed'\"))\n",
    "n_con_old = len(df2.query(\"yes == 0 & experiment == 'exposed'\"))\n",
    "n_con_new / n_converted "
   ]
  },
  {
   "cell_type": "code",
   "execution_count": 58,
   "id": "b5fe0bcf",
   "metadata": {},
   "outputs": [
    {
     "data": {
      "text/plain": [
       "6.465034965034965"
      ]
     },
     "execution_count": 58,
     "metadata": {},
     "output_type": "execute_result"
    }
   ],
   "source": [
    "# What is the conversion rate for pold under the null?\n",
    "# ?????????????????????????\n",
    "n_con_old / n_converted"
   ]
  },
  {
   "cell_type": "code",
   "execution_count": 30,
   "id": "85b8c3f9",
   "metadata": {},
   "outputs": [
    {
     "data": {
      "text/plain": [
       "4006"
      ]
     },
     "execution_count": 30,
     "metadata": {},
     "output_type": "execute_result"
    }
   ],
   "source": [
    "# What is nnew, the number of individuals in the treatment group?\n",
    "\n",
    "len(df2.query(\"experiment == 'exposed'\"))"
   ]
  },
  {
   "cell_type": "code",
   "execution_count": 31,
   "id": "f18e140b",
   "metadata": {},
   "outputs": [
    {
     "data": {
      "text/plain": [
       "4071"
      ]
     },
     "execution_count": 31,
     "metadata": {},
     "output_type": "execute_result"
    }
   ],
   "source": [
    "# What is nold, the number of individuals in the control group?\n",
    "\n",
    "len(df2.query(\"experiment == 'control'\"))"
   ]
  },
  {
   "cell_type": "code",
   "execution_count": 59,
   "id": "f95b0335",
   "metadata": {},
   "outputs": [
    {
     "data": {
      "text/plain": [
       "0.984033407025301"
      ]
     },
     "execution_count": 59,
     "metadata": {},
     "output_type": "execute_result"
    }
   ],
   "source": [
    "4006/4071"
   ]
  },
  {
   "cell_type": "code",
   "execution_count": 32,
   "id": "cd3482bb",
   "metadata": {},
   "outputs": [
    {
     "data": {
      "text/plain": [
       "array([0, 0, 0, ..., 0, 0, 0])"
      ]
     },
     "execution_count": 32,
     "metadata": {},
     "output_type": "execute_result"
    }
   ],
   "source": [
    "# Simulate nnew transactions with a conversion rate of pnew under the null. \n",
    "# Store these nnew 1's and 0's in new_page_converted.\n",
    "\n",
    "new_page_converted = np.random.choice([0, 1], size=n_old, p=[(1 - exposed_ctr), exposed_ctr])\n",
    "new_page_converted"
   ]
  },
  {
   "cell_type": "code",
   "execution_count": 33,
   "id": "680d24e6",
   "metadata": {},
   "outputs": [
    {
     "data": {
      "text/plain": [
       "array([0, 0, 0, ..., 0, 0, 0])"
      ]
     },
     "execution_count": 33,
     "metadata": {},
     "output_type": "execute_result"
    }
   ],
   "source": [
    "# Simulate nold transactions with a conversion rate of pold under the null. \n",
    "# Store these nold 1's and 0's in old_page_converted.\n",
    "\n",
    "old_page_converted = np.random.choice([0, 1], size=n_new, p=[(1 - exposed_ctr), exposed_ctr])\n",
    "old_page_converted"
   ]
  },
  {
   "cell_type": "code",
   "execution_count": 34,
   "id": "c63a817d",
   "metadata": {},
   "outputs": [
    {
     "data": {
      "text/plain": [
       "0.017790312811303804"
      ]
     },
     "execution_count": 34,
     "metadata": {},
     "output_type": "execute_result"
    }
   ],
   "source": [
    "# Find pnew - pold for your simulated values from part (e) and (f).\n",
    "\n",
    "new_page_converted.mean() - old_page_converted.mean()"
   ]
  },
  {
   "cell_type": "code",
   "execution_count": 36,
   "id": "b2f0f81a",
   "metadata": {},
   "outputs": [],
   "source": [
    "# Create 10,000 pnew - pold values using the same simulation process you used in parts (a) through (g) above. \n",
    "# Store all 10,000 values in a NumPy array called p_diffs.\n",
    "\n",
    "p_diffs = []\n",
    "\n",
    "for i in range(10000):\n",
    "    new_page_converted = np.random.choice([0, 1], size=n_new, p=[(1 - exposed_ctr), exposed_ctr])\n",
    "    old_page_converted = np.random.choice([0, 1], size=n_old, p=[(1 - exposed_ctr), exposed_ctr])\n",
    "    p_diffs.append(new_page_converted.mean() - old_page_converted.mean())\n",
    "    \n",
    "p_diffs = np.asarray(p_diffs)\n"
   ]
  },
  {
   "cell_type": "code",
   "execution_count": 46,
   "id": "f54a622f",
   "metadata": {},
   "outputs": [
    {
     "data": {
      "text/plain": [
       "array([-0.003174  ,  0.00320865,  0.00048668, ..., -0.00968818,\n",
       "        0.00761821,  0.00742837])"
      ]
     },
     "execution_count": 46,
     "metadata": {},
     "output_type": "execute_result"
    }
   ],
   "source": [
    "p_diffs"
   ]
  },
  {
   "cell_type": "code",
   "execution_count": 47,
   "id": "dd263e0b",
   "metadata": {},
   "outputs": [
    {
     "data": {
      "image/png": "[encoded data removed]",
      "text/plain": [
       "<Figure size 640x480 with 1 Axes>"
      ]
     },
     "metadata": {},
     "output_type": "display_data"
    }
   ],
   "source": [
    "import matplotlib.pyplot as plt\n",
    "\n",
    "plt.hist(p_diffs)\n",
    "plt.title(\"Differences in Conversion Rates\", fontsize=18)\n",
    "plt.xlabel(\"\\n Difference in Probability\", fontsize=16)\n",
    "plt.ylabel(\"\\n users\", fontsize=16)\n",
    "plt.axvline(exposed_ctr - control_ctr, color='r');"
   ]
  },
  {
   "cell_type": "code",
   "execution_count": 49,
   "id": "985d3599",
   "metadata": {},
   "outputs": [
    {
     "data": {
      "text/plain": [
       "0.9804"
      ]
     },
     "execution_count": 49,
     "metadata": {},
     "output_type": "execute_result"
    }
   ],
   "source": [
    "obs_diff = control_ctr - exposed_ctr\n",
    "\n",
    "(p_diffs > obs_diff).mean()"
   ]
  },
  {
   "cell_type": "code",
   "execution_count": null,
   "id": "9f28ac49",
   "metadata": {},
   "outputs": [],
   "source": []
  }
 ],
 "metadata": {
  "kernelspec": {
   "display_name": "Python 3 (ipykernel)",
   "language": "python",
   "name": "python3"
  },
  "language_info": {
   "codemirror_mode": {
    "name": "ipython",
    "version": 3
   },
   "file_extension": ".py",
   "mimetype": "text/x-python",
   "name": "python",
   "nbconvert_exporter": "python",
   "pygments_lexer": "ipython3",
   "version": "3.10.6"
  },
  "varInspector": {
   "cols": {
    "lenName": 16,
    "lenType": 16,
    "lenVar": 40
   },
   "kernels_config": {
    "python": {
     "delete_cmd_postfix": "",
     "delete_cmd_prefix": "del ",
     "library": "var_list.py",
     "varRefreshCmd": "print(var_dic_list())"
    },
    "r": {
     "delete_cmd_postfix": ") ",
     "delete_cmd_prefix": "rm(",
     "library": "var_list.r",
     "varRefreshCmd": "cat(var_dic_list()) "
    }
   },
   "position": {
    "height": "144.35px",
    "left": "375.75px",
    "right": "20px",
    "top": "113px",
    "width": "350px"
   },
   "types_to_exclude": [
    "module",
    "function",
    "builtin_function_or_method",
    "instance",
    "_Feature"
   ],
   "window_display": false
  }
 },
 "nbformat": 4,
 "nbformat_minor": 5
}
